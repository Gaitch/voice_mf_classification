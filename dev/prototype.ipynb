{
 "cells": [
  {
   "cell_type": "markdown",
   "metadata": {},
   "source": [
    "# Gender classification"
   ]
  },
  {
   "cell_type": "code",
   "execution_count": null,
   "metadata": {},
   "outputs": [],
   "source": []
  },
  {
   "cell_type": "code",
   "execution_count": 40,
   "metadata": {},
   "outputs": [],
   "source": [
    "import sys,os\n",
    "import numpy as np\n",
    "import pandas as pd"
   ]
  },
  {
   "cell_type": "markdown",
   "metadata": {},
   "source": [
    "## list some file directories"
   ]
  },
  {
   "cell_type": "code",
   "execution_count": 41,
   "metadata": {},
   "outputs": [
    {
     "name": "stdout",
     "output_type": "stream",
     "text": [
      "['common_voice_en_39124688.mp3', 'common_voice_en_38492555.mp3', 'common_voice_en_39014458.mp3', 'common_voice_en_38627321.mp3', 'common_voice_en_39015882.mp3', 'common_voice_en_38559189.mp3', 'common_voice_en_39094136.mp3', 'common_voice_en_39583678.mp3', 'common_voice_en_38968922.mp3', 'common_voice_en_38743424.mp3']\n",
      "['reported.tsv', 'clips', 'invalidated.tsv', 'clip_durations.tsv', 'validated.tsv', 'other.tsv']\n"
     ]
    }
   ],
   "source": [
    "\n",
    "# Specify the directory\n",
    "directory_clips = 'data/cv-corpus-16.1-delta-2023-12-06/en/clips'\n",
    "directory_labels = 'data/cv-corpus-16.1-delta-2023-12-06/en/'\n",
    "\n",
    "reported = 'data/cv-corpus-16.1-delta-2023-12-06/en/validated.tsv'\n",
    "\n",
    "# List all files and directories in the specified directory\n",
    "files = os.listdir(directory_clips)\n",
    "labels = os.listdir(directory_labels)\n",
    "\n",
    "# Print filenames\n",
    "print(files[0:10])\n",
    "print(labels[0:10])\n",
    "\n"
   ]
  },
  {
   "cell_type": "markdown",
   "metadata": {},
   "source": [
    "### Inspect Labels"
   ]
  },
  {
   "cell_type": "code",
   "execution_count": 67,
   "metadata": {},
   "outputs": [
    {
     "name": "stdout",
     "output_type": "stream",
     "text": [
      "(3076, 4)\n"
     ]
    },
    {
     "data": {
      "text/html": [
       "<div>\n",
       "<style scoped>\n",
       "    .dataframe tbody tr th:only-of-type {\n",
       "        vertical-align: middle;\n",
       "    }\n",
       "\n",
       "    .dataframe tbody tr th {\n",
       "        vertical-align: top;\n",
       "    }\n",
       "\n",
       "    .dataframe thead th {\n",
       "        text-align: right;\n",
       "    }\n",
       "</style>\n",
       "<table border=\"1\" class=\"dataframe\">\n",
       "  <thead>\n",
       "    <tr style=\"text-align: right;\">\n",
       "      <th></th>\n",
       "      <th>path</th>\n",
       "      <th>sentence</th>\n",
       "      <th>age</th>\n",
       "      <th>gender</th>\n",
       "    </tr>\n",
       "  </thead>\n",
       "  <tbody>\n",
       "    <tr>\n",
       "      <th>5</th>\n",
       "      <td>common_voice_en_38570599.mp3</td>\n",
       "      <td>Flatow was given a co-star credit.</td>\n",
       "      <td>twenties</td>\n",
       "      <td>male</td>\n",
       "    </tr>\n",
       "    <tr>\n",
       "      <th>8</th>\n",
       "      <td>common_voice_en_39572424.mp3</td>\n",
       "      <td>A timetable for the move was not specified.</td>\n",
       "      <td>fifties</td>\n",
       "      <td>male</td>\n",
       "    </tr>\n",
       "    <tr>\n",
       "      <th>13</th>\n",
       "      <td>common_voice_en_39548774.mp3</td>\n",
       "      <td>Where can i find the supreme leader?</td>\n",
       "      <td>teens</td>\n",
       "      <td>female</td>\n",
       "    </tr>\n",
       "    <tr>\n",
       "      <th>15</th>\n",
       "      <td>common_voice_en_38594742.mp3</td>\n",
       "      <td>Down jumped the driver, and out got Mr. Pickwick.</td>\n",
       "      <td>twenties</td>\n",
       "      <td>male</td>\n",
       "    </tr>\n",
       "    <tr>\n",
       "      <th>22</th>\n",
       "      <td>common_voice_en_38514380.mp3</td>\n",
       "      <td>He was the original sponsor of legislation cre...</td>\n",
       "      <td>sixties</td>\n",
       "      <td>male</td>\n",
       "    </tr>\n",
       "  </tbody>\n",
       "</table>\n",
       "</div>"
      ],
      "text/plain": [
       "                            path  \\\n",
       "5   common_voice_en_38570599.mp3   \n",
       "8   common_voice_en_39572424.mp3   \n",
       "13  common_voice_en_39548774.mp3   \n",
       "15  common_voice_en_38594742.mp3   \n",
       "22  common_voice_en_38514380.mp3   \n",
       "\n",
       "                                             sentence       age  gender  \n",
       "5                  Flatow was given a co-star credit.  twenties    male  \n",
       "8         A timetable for the move was not specified.   fifties    male  \n",
       "13               Where can i find the supreme leader?     teens  female  \n",
       "15  Down jumped the driver, and out got Mr. Pickwick.  twenties    male  \n",
       "22  He was the original sponsor of legislation cre...   sixties    male  "
      ]
     },
     "execution_count": 67,
     "metadata": {},
     "output_type": "execute_result"
    }
   ],
   "source": [
    "# load the data labels\n",
    "df = pd.read_csv(reported, sep='\\t', header=0,)\n",
    "\n",
    "# drop unecesary columns\n",
    "df = df. drop(columns=['client_id','up_votes', 'down_votes', 'accents', 'locale', 'segment', 'variant'])\n",
    "\n",
    "# drop rows with missing values\n",
    "df = df.dropna(subset=['gender'])\n",
    "\n",
    "print(df.shape)\n",
    "\n",
    "df.head()"
   ]
  },
  {
   "cell_type": "markdown",
   "metadata": {},
   "source": [
    "## Data Import"
   ]
  },
  {
   "cell_type": "code",
   "execution_count": null,
   "metadata": {},
   "outputs": [],
   "source": []
  },
  {
   "cell_type": "markdown",
   "metadata": {},
   "source": [
    "## Data preperation"
   ]
  },
  {
   "cell_type": "markdown",
   "metadata": {},
   "source": [
    "## Feature extraction"
   ]
  }
 ],
 "metadata": {
  "kernelspec": {
   "display_name": ".venv",
   "language": "python",
   "name": "python3"
  },
  "language_info": {
   "codemirror_mode": {
    "name": "ipython",
    "version": 3
   },
   "file_extension": ".py",
   "mimetype": "text/x-python",
   "name": "python",
   "nbconvert_exporter": "python",
   "pygments_lexer": "ipython3",
   "version": "3.11.2"
  }
 },
 "nbformat": 4,
 "nbformat_minor": 2
}
